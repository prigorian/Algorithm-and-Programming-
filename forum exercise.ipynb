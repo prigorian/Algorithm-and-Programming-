{
 "cells": [
  {
   "cell_type": "code",
   "execution_count": 3,
   "metadata": {},
   "outputs": [
    {
     "name": "stdout",
     "output_type": "stream",
     "text": [
      "153.86\n"
     ]
    }
   ],
   "source": [
    "x= eval(input('enter radius:')) \n",
    "p= 3.14 * x**2\n",
    "print(p)\n"
   ]
  },
  {
   "cell_type": "code",
   "execution_count": 5,
   "metadata": {},
   "outputs": [
    {
     "name": "stdout",
     "output_type": "stream",
     "text": [
      "suted malcom\n"
     ]
    }
   ],
   "source": [
    "q= input('enter first name: ')\n",
    "w= input('enter last name: ')\n",
    "print(w + ' '+ q)\n"
   ]
  },
  {
   "cell_type": "code",
   "execution_count": 11,
   "metadata": {},
   "outputs": [
    {
     "name": "stdout",
     "output_type": "stream",
     "text": [
      "Red Black\n"
     ]
    }
   ],
   "source": [
    "color_list = [\"Red\",\"Green\",\"White\",\"Black\"]\n",
    "q= color_list[0]\n",
    "w= color_list[len(color_list)-1]\n",
    "print(q , w)\n",
    "\n"
   ]
  },
  {
   "cell_type": "code",
   "execution_count": 9,
   "metadata": {},
   "outputs": [
    {
     "name": "stdout",
     "output_type": "stream",
     "text": [
      "1110\n"
     ]
    }
   ],
   "source": [
    "q= eval(input('enter integer: '))\n",
    "p= q**2\n",
    "w= q**3\n",
    "print(q+p+w)\n"
   ]
  },
  {
   "cell_type": "code",
   "execution_count": 10,
   "metadata": {},
   "outputs": [
    {
     "name": "stdout",
     "output_type": "stream",
     "text": [
      "904.3199999999999\n"
     ]
    }
   ],
   "source": [
    "r=6\n",
    "v= 4/3 * 3.14 * r**3 \n",
    "print(v)"
   ]
  },
  {
   "cell_type": "code",
   "execution_count": 2,
   "metadata": {},
   "outputs": [
    {
     "name": "stdout",
     "output_type": "stream",
     "text": [
      "2\n"
     ]
    }
   ],
   "source": [
    "\n",
    "\n",
    "\n",
    "w= eval(input('enter a number: '))\n",
    "result=666\n",
    "if w<17:\n",
    "      result=17-w\n",
    "else:\n",
    "  result=(w-17)*2\n",
    "print(result)"
   ]
  },
  {
   "cell_type": "code",
   "execution_count": 4,
   "metadata": {},
   "outputs": [
    {
     "name": "stdout",
     "output_type": "stream",
     "text": [
      "60\n"
     ]
    }
   ],
   "source": [
    "w= eval(input('enter a number:'))\n",
    "q= eval(input('enter a number:'))\n",
    "z= eval(input('enter a number: '))\n",
    "if w==q==z:\n",
    "    print((w+q+z)*3)\n",
    "else:\n",
    "    print (w+q+z)"
   ]
  },
  {
   "cell_type": "code",
   "execution_count": 6,
   "metadata": {},
   "outputs": [
    {
     "name": "stdout",
     "output_type": "stream",
     "text": [
      "number is even\n"
     ]
    }
   ],
   "source": [
    "w= eval(input('enter a number:'))\n",
    "q= w % 2 \n",
    "if q==0 :\n",
    "    print('number is even')\n",
    "else : \n",
    "    print('number is odd')"
   ]
  },
  {
   "cell_type": "code",
   "execution_count": 9,
   "metadata": {},
   "outputs": [
    {
     "name": "stdout",
     "output_type": "stream",
     "text": [
      "this letter is a vowel\n"
     ]
    }
   ],
   "source": [
    "vowel= ['A','a','I','i','U','u','E','e','O','o']\n",
    "q= input('enter a single letter: ')\n",
    "if q in vowel:\n",
    "    print('this letter is a vowel' )\n",
    "else: \n",
    "    print('this letter is not a vowel')"
   ]
  },
  {
   "cell_type": "code",
   "execution_count": 11,
   "metadata": {},
   "outputs": [
    {
     "name": "stdout",
     "output_type": "stream",
     "text": [
      "value is contained in a group of values\n"
     ]
    }
   ],
   "source": [
    "vowel= ['A','a','I','i','U','u','E','e','O','o']\n",
    "q= input('enter a single letter: ')\n",
    "count=0\n",
    "for i in vowel: \n",
    "    if i==q:\n",
    "        count=count+1\n",
    "        \n",
    "if count > 0 :\n",
    "    print('value is contained in a group of values')\n",
    "else:\n",
    "    print('value is not contained in a group of values')    "
   ]
  },
  {
   "cell_type": "code",
   "execution_count": 12,
   "metadata": {},
   "outputs": [
    {
     "name": "stdout",
     "output_type": "stream",
     "text": [
      "-\n",
      "--\n",
      "---\n",
      "----\n",
      "-----\n",
      "------\n",
      "-------\n",
      "--------\n",
      "---------\n"
     ]
    }
   ],
   "source": [
    "def t (list):\n",
    "    for i in list: \n",
    "        line= ''\n",
    "        while i > 0: \n",
    "            line= line + '-' \n",
    "            i= i-1\n",
    "        print(line)\n",
    "\n",
    "t([1,2,3,4,5,6,7,8,9])\n"
   ]
  },
  {
   "cell_type": "code",
   "execution_count": 13,
   "metadata": {},
   "outputs": [
    {
     "name": "stdout",
     "output_type": "stream",
     "text": [
      "386\n",
      "462\n",
      "418\n",
      "344\n",
      "236\n",
      "566\n",
      "978\n",
      "328\n",
      "162\n",
      "758\n",
      "918\n",
      "412\n",
      "566\n",
      "826\n",
      "248\n",
      "866\n",
      "950\n",
      "626\n",
      "104\n",
      "58\n",
      "512\n",
      "24\n",
      "892\n",
      "894\n",
      "742\n",
      "958\n"
     ]
    }
   ],
   "source": [
    "def evenNumbers (list):\n",
    "    for i in list:\n",
    "        if i%2==0:\n",
    "            print(i)\n",
    "\n",
    "numbers = [\n",
    "386, 462, 47, 418, 907, 344, 236, 375, 823, 566, 597, 978, 328, 615, 953, 345, 399, 162, 758, 219, 918, 237, 412, 566, 826, 248, 866, 950, 626, 949, 687, 217, 815, 67, 104, 58, 512, 24, 892, 894, 767, 553, 81, 379, 843, 831, 445, 742, 717, 958,743, 527 ]\n",
    "evenNumbers(numbers)\n",
    "\n"
   ]
  },
  {
   "cell_type": "code",
   "execution_count": 15,
   "metadata": {},
   "outputs": [
    {
     "name": "stdout",
     "output_type": "stream",
     "text": [
      "6.0\n"
     ]
    }
   ],
   "source": [
    "def area (base,height):\n",
    "    print ((base * height) / 2)\n",
    "\n",
    "area(2,6) \n",
    "    \n",
    "\n",
    "\n"
   ]
  },
  {
   "cell_type": "code",
   "execution_count": 16,
   "metadata": {},
   "outputs": [
    {
     "name": "stdout",
     "output_type": "stream",
     "text": [
      "4\n"
     ]
    }
   ],
   "source": [
    "def lcm(x, y):  \n",
    "     \n",
    "    if x > y:  \n",
    "        greater = x  \n",
    "    else:  \n",
    "        greater = y  \n",
    "    while(True):  \n",
    "        if((greater % x == 0) and (greater % y == 0)):  \n",
    "            lcm = greater  \n",
    "            break  \n",
    "        greater = greater + 1  \n",
    "    return lcm    \n",
    "\n",
    "print (lcm(2,4))\n"
   ]
  },
  {
   "cell_type": "code",
   "execution_count": 19,
   "metadata": {},
   "outputs": [
    {
     "name": "stdout",
     "output_type": "stream",
     "text": [
      "7\n"
     ]
    }
   ],
   "source": [
    "def I (x,y,z):\n",
    "    if x==y or x==z or y==z:\n",
    "        return 0\n",
    "    else: \n",
    "        return x+y+z\n",
    "\n",
    "print(I(1,4,2))\n"
   ]
  },
  {
   "cell_type": "code",
   "execution_count": 20,
   "metadata": {},
   "outputs": [
    {
     "name": "stdout",
     "output_type": "stream",
     "text": [
      "900\n"
     ]
    }
   ],
   "source": [
    "def lol (x,y):\n",
    "    return (x + y) * (x + y)\n",
    "print(lol(10,20))    "
   ]
  },
  {
   "cell_type": "code",
   "execution_count": 23,
   "metadata": {},
   "outputs": [
    {
     "name": "stdout",
     "output_type": "stream",
     "text": [
      "1272.2792627665729\n"
     ]
    }
   ],
   "source": [
    "def bank (amt,intr,years):\n",
    "    return amt*((1+(0.01*intr)) ** years)\n",
    "print(bank(1000,3.5,7))"
   ]
  },
  {
   "cell_type": "code",
   "execution_count": 27,
   "metadata": {},
   "outputs": [
    {
     "name": "stdout",
     "output_type": "stream",
     "text": [
      "28.284271247461902\n"
     ]
    }
   ],
   "source": [
    "import math\n",
    "def distance (x1,y1,x2,y2):\n",
    "    x=(x2-x1)**2\n",
    "    y=(y2-y1)**2\n",
    "    return math.sqrt(x+y)\n",
    "print(distance(10,20,30,40))"
   ]
  },
  {
   "cell_type": "code",
   "execution_count": 30,
   "metadata": {},
   "outputs": [
    {
     "name": "stdout",
     "output_type": "stream",
     "text": [
      "3.0\n"
     ]
    }
   ],
   "source": [
    "def sum (x):\n",
    "    return (x * (x + 1)) / 2\n",
    "print (sum(2))  "
   ]
  },
  {
   "cell_type": "code",
   "execution_count": 31,
   "metadata": {},
   "outputs": [
    {
     "name": "stdout",
     "output_type": "stream",
     "text": [
      "180.34\n"
     ]
    }
   ],
   "source": [
    "def height (feet,inches):\n",
    "    return feet * 30.48 + inches * 2.54\n",
    "print (height(5,11))"
   ]
  },
  {
   "cell_type": "code",
   "execution_count": 33,
   "metadata": {},
   "outputs": [
    {
     "name": "stdout",
     "output_type": "stream",
     "text": [
      "4.47213595499958\n"
     ]
    }
   ],
   "source": [
    "def hypotenuse (x,y):\n",
    "    return math.sqrt (x**2+y**2)\n",
    "print(hypotenuse(2,4))"
   ]
  },
  {
   "cell_type": "code",
   "execution_count": 34,
   "metadata": {},
   "outputs": [
    {
     "name": "stdout",
     "output_type": "stream",
     "text": [
      "27.777777777777775\n"
     ]
    }
   ],
   "source": [
    "def bmi (kg,m):\n",
    "    return kg / m**2\n",
    "print(bmi(90,1.80))\n"
   ]
  },
  {
   "cell_type": "code",
   "execution_count": 35,
   "metadata": {},
   "outputs": [
    {
     "name": "stdout",
     "output_type": "stream",
     "text": [
      "(20.0, 30.0)\n"
     ]
    }
   ],
   "source": [
    "def mid (x1,y1,x2,y2):\n",
    "    return (x1 + x2)/2, (y1 + y2)/2\n",
    "print (mid(10,20,30,40))"
   ]
  },
  {
   "cell_type": "code",
   "execution_count": 37,
   "metadata": {},
   "outputs": [
    {
     "name": "stdout",
     "output_type": "stream",
     "text": [
      "[2002, 2009, 2016, 2023, 2037, 2044, 2051, 2058, 2072, 2079, 2086, 2093, 2107, 2114, 2121, 2128, 2142, 2149, 2156, 2163, 2177, 2184, 2191, 2198, 2212, 2219, 2226, 2233, 2247, 2254, 2261, 2268, 2282, 2289, 2296, 2303, 2317, 2324, 2331, 2338, 2352, 2359, 2366, 2373, 2387, 2394, 2401, 2408, 2422, 2429, 2436, 2443, 2457, 2464, 2471, 2478, 2492, 2499, 2506, 2513, 2527, 2534, 2541, 2548, 2562, 2569, 2576, 2583, 2597, 2604, 2611, 2618, 2632, 2639, 2646, 2653, 2667, 2674, 2681, 2688, 2702, 2709, 2716, 2723, 2737, 2744, 2751, 2758, 2772, 2779, 2786, 2793, 2807, 2814, 2821, 2828, 2842, 2849, 2856, 2863, 2877, 2884, 2891, 2898, 2912, 2919, 2926, 2933, 2947, 2954, 2961, 2968, 2982, 2989, 2996, 3003, 3017, 3024, 3031, 3038, 3052, 3059, 3066, 3073, 3087, 3094, 3101, 3108, 3122, 3129, 3136, 3143, 3157, 3164, 3171, 3178, 3192, 3199]\n"
     ]
    }
   ],
   "source": [
    "def program ():\n",
    "    q= []\n",
    "    for i in range(2000,3201):\n",
    "        if i % 7 == 0 :\n",
    "            if i % 5 != 0 :\n",
    "                q.append(i)\n",
    "    return q \n",
    "print (program())    \n",
    "            \n"
   ]
  }
 ],
 "metadata": {
  "kernelspec": {
   "display_name": "Python 3.9.12 ('base')",
   "language": "python",
   "name": "python3"
  },
  "language_info": {
   "codemirror_mode": {
    "name": "ipython",
    "version": 3
   },
   "file_extension": ".py",
   "mimetype": "text/x-python",
   "name": "python",
   "nbconvert_exporter": "python",
   "pygments_lexer": "ipython3",
   "version": "3.9.12"
  },
  "orig_nbformat": 4,
  "vscode": {
   "interpreter": {
    "hash": "1e785fa54d9e5d0a5117a3e445a14ecfa2013d52d7c074a409f946cc3b3d4ee7"
   }
  }
 },
 "nbformat": 4,
 "nbformat_minor": 2
}
