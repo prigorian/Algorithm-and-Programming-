{
 "cells": [
  {
   "cell_type": "code",
   "execution_count": 1,
   "metadata": {},
   "outputs": [
    {
     "name": "stdout",
     "output_type": "stream",
     "text": [
      "{'gold': 550, 'pouch': ['flint', 'twine', 'gemstone'], 'backpack': ['bedroll', 'bread loaf', 'xylophone'], 'pocket': ['seashell', 'strange berry', 'lint']}\n"
     ]
    }
   ],
   "source": [
    "inventory = {\n",
    "'gold' : 500,\n",
    "'pouch' : ['flint', 'twine', 'gemstone'],\n",
    "'backpack' : ['xylophone','dagger', 'bedroll','bread loaf']\n",
    "}\n",
    "\n",
    "inventory['pocket'] = ['seashell', 'strange berry', 'lint']\n",
    "inventory['backpack'].sort()\n",
    "inventory['backpack'].remove('dagger')\n",
    "inventory['gold'] += 50\n",
    "print(inventory)"
   ]
  },
  {
   "cell_type": "code",
   "execution_count": 2,
   "metadata": {},
   "outputs": [
    {
     "name": "stdout",
     "output_type": "stream",
     "text": [
      "banana\n",
      "price: 4\n",
      "stock: 6\n",
      "apple\n",
      "price: 2\n",
      "stock: 0\n",
      "orange\n",
      "price: 1.5\n",
      "stock: 32\n",
      "pear\n",
      "price: 3\n",
      "stock: 15\n",
      "117.0\n"
     ]
    }
   ],
   "source": [
    "stock = {\"banana\": 6,\"apple\": 0,\"orange\": 32,\"pear\": 15}\n",
    "\n",
    "prices = {\"banana\": 4,\"apple\": 2,\"orange\": 1.5,\"pear\": 3}\n",
    "\n",
    "for i in prices:\n",
    "    print(i)\n",
    "    print(\"price:\", prices[i])\n",
    "    print(\"stock:\", stock[i])\n",
    "\n",
    "\n",
    "total = 0\n",
    "for i in prices:\n",
    "    total += prices[i] * stock[i]\n",
    "print(total)"
   ]
  },
  {
   "cell_type": "code",
   "execution_count": 5,
   "metadata": {},
   "outputs": [
    {
     "name": "stdout",
     "output_type": "stream",
     "text": [
      "10.5\n",
      "8.5\n"
     ]
    }
   ],
   "source": [
    "def computeBill(food):\n",
    "    total = 0\n",
    "    for i in food:\n",
    "        total += food[i]\n",
    "    return total\n",
    "\n",
    "def computeBill2(food):\n",
    "    total = 0\n",
    "    for i in food:\n",
    "        if stock[i] > 0:\n",
    "            total += food[i]\n",
    "            stock[i] -= 1\n",
    "    return total\n",
    "\n",
    "print(computeBill(prices))\n",
    "print(computeBill2(prices))"
   ]
  },
  {
   "cell_type": "code",
   "execution_count": null,
   "metadata": {},
   "outputs": [],
   "source": [
    "eren = {\"name\": \"Eren\",\"homework\": [90.0,97.0,75.0,92.0],\"quizzes\": [88.0,40.0,94.0],\"tests\": [75.0,90.0]}\n",
    "mikasa = {\"name\": \"Mikasa\",\"homework\": [100.0, 92.0, 98.0, 100.0],\"quizzes\": [82.0, 83.0, 91.0],\"tests\": [89.0, 97.0]}\n",
    "armin = {\"name\": \"Armin\",\"homework\": [0.0, 87.0, 75.0, 22.0],\"quizzes\": [0.0, 75.0, 78.0],\"tests\": [100.0, 100.0]}\n",
    "students = [eren, mikasa, armin]\n",
    "for i in students:\n",
    "    print(i[\"name\"])\n",
    "    print(i[\"homework\"])\n",
    "    print(i[\"quizzes\"])\n",
    "    print(i[\"tests\"])\n",
    "\n",
    "def average(numbers):\n",
    "    total = sum(numbers)\n",
    "    total = float(total)\n",
    "    return total / len(numbers)\n",
    "\n",
    "def get_average(student):\n",
    "    homework = average(student[\"homework\"])\n",
    "    quizzes = average(student[\"quizzes\"])\n",
    "    tests = average(student[\"tests\"])\n",
    "    homework *= 1/10\n",
    "    quizzes *= 3/10\n",
    "    tests *= 3/5\n",
    "    return homework + quizzes + tests\n",
    "\n",
    "def get_letter_grade(score):\n",
    "    if score >= 90:\n",
    "        return \"A\"\n"
   ]
  }
 ],
 "metadata": {
  "kernelspec": {
   "display_name": "Python 3.9.12 ('base')",
   "language": "python",
   "name": "python3"
  },
  "language_info": {
   "codemirror_mode": {
    "name": "ipython",
    "version": 3
   },
   "file_extension": ".py",
   "mimetype": "text/x-python",
   "name": "python",
   "nbconvert_exporter": "python",
   "pygments_lexer": "ipython3",
   "version": "3.9.12"
  },
  "orig_nbformat": 4,
  "vscode": {
   "interpreter": {
    "hash": "1e785fa54d9e5d0a5117a3e445a14ecfa2013d52d7c074a409f946cc3b3d4ee7"
   }
  }
 },
 "nbformat": 4,
 "nbformat_minor": 2
}
